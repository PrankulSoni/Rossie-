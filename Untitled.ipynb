{
 "cells": [
  {
   "cell_type": "code",
   "execution_count": 1,
   "id": "58f7058c-751a-44cb-86e8-777c5d19b1c8",
   "metadata": {},
   "outputs": [],
   "source": [
    "import speech_recognition as sr\n",
    "import pyttsx3\n",
    "import pywhatkit"
   ]
  },
  {
   "cell_type": "code",
   "execution_count": 2,
   "id": "10c36707-b8e1-4ba5-b770-97a9f5fe0dde",
   "metadata": {},
   "outputs": [],
   "source": [
    "listener = sr.Recognizer()\n",
    "engine = pyttsx3.init()\n",
    "voices = engine.getProperty('voices')\n",
    "engine.setProperty('voice', voices[1].id)"
   ]
  },
  {
   "cell_type": "code",
   "execution_count": 3,
   "id": "3168b6c6-2e89-4890-a4fd-272eaa167108",
   "metadata": {},
   "outputs": [],
   "source": [
    "def talk(text):\n",
    "    engine.say(text)\n",
    "    engine.runAndWait()\n"
   ]
  },
  {
   "cell_type": "code",
   "execution_count": 4,
   "id": "90d622e0-013a-4436-a797-83d6707fe7c5",
   "metadata": {},
   "outputs": [],
   "source": [
    "def take_command():\n",
    "    try:\n",
    "        with sr.Microphone() as source:\n",
    "            print('Listening...')\n",
    "            listener.adjust_for_ambient_noise(source)  # Adjust for ambient noise\n",
    "            voice = listener.listen(source, timeout=5)  # Listen for 5 seconds\n",
    "            command = listener.recognize_google(voice)\n",
    "            command = command.lower()\n",
    "            if 'alexa' in command:\n",
    "                command = command.replace('rossie', '')\n",
    "                print(command)\n",
    "    except sr.UnknownValueError:\n",
    "        print(\"Sorry, I didn't catch that. Please try again.\")\n",
    "        return \"\"\n",
    "    except sr.RequestError:\n",
    "        print(\"Sorry, there was an issue with the speech recognition service.\")\n",
    "        return \"\"\n",
    "    except KeyboardInterrupt:\n",
    "        print(\"Program stopped by user.\")\n",
    "        return \"\"\n",
    "    return command"
   ]
  },
  {
   "cell_type": "code",
   "execution_count": 5,
   "id": "0e8fc01c-9700-4641-84e1-0e5d67525ee0",
   "metadata": {},
   "outputs": [],
   "source": [
    "def run_rossie():\n",
    "    command = take_command()\n",
    "    print(command)\n",
    "    if 'play' in command:\n",
    "        song = command.replace('play', '')\n",
    "        talk('Playing ' + song)\n",
    "        pywhatkit.playonyt(song)\n",
    "    else:\n",
    "        talk('Please say the command again.')"
   ]
  },
  {
   "cell_type": "code",
   "execution_count": null,
   "id": "b018198b-5461-435f-a071-6147fcd34c1b",
   "metadata": {},
   "outputs": [
    {
     "name": "stdout",
     "output_type": "stream",
     "text": [
      "Listening...\n"
     ]
    }
   ],
   "source": [
    "if __name__ == \"__main__\":\n",
    "    while True:\n",
    "        run_rossie()"
   ]
  },
  {
   "cell_type": "code",
   "execution_count": null,
   "id": "72917458-bae0-486c-b7f2-50b03e3ad279",
   "metadata": {},
   "outputs": [],
   "source": []
  }
 ],
 "metadata": {
  "kernelspec": {
   "display_name": "Python 3 (ipykernel)",
   "language": "python",
   "name": "python3"
  },
  "language_info": {
   "codemirror_mode": {
    "name": "ipython",
    "version": 3
   },
   "file_extension": ".py",
   "mimetype": "text/x-python",
   "name": "python",
   "nbconvert_exporter": "python",
   "pygments_lexer": "ipython3",
   "version": "3.11.7"
  }
 },
 "nbformat": 4,
 "nbformat_minor": 5
}
